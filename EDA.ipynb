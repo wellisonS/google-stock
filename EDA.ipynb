{
 "cells": [
  {
   "cell_type": "markdown",
   "id": "52646516",
   "metadata": {},
   "source": [
    "### Importando bibliotecas"
   ]
  },
  {
   "cell_type": "code",
   "execution_count": 1,
   "id": "21eb4d5e",
   "metadata": {},
   "outputs": [],
   "source": [
    "import pandas as pd \n",
    "import numpy as np \n",
    "import matplotlib.pyplot as plt \n",
    "import seaborn as sns\n"
   ]
  },
  {
   "cell_type": "code",
   "execution_count": 2,
   "id": "734c122d",
   "metadata": {},
   "outputs": [
    {
     "data": {
      "text/html": [
       "<div>\n",
       "<style scoped>\n",
       "    .dataframe tbody tr th:only-of-type {\n",
       "        vertical-align: middle;\n",
       "    }\n",
       "\n",
       "    .dataframe tbody tr th {\n",
       "        vertical-align: top;\n",
       "    }\n",
       "\n",
       "    .dataframe thead th {\n",
       "        text-align: right;\n",
       "    }\n",
       "</style>\n",
       "<table border=\"1\" class=\"dataframe\">\n",
       "  <thead>\n",
       "    <tr style=\"text-align: right;\">\n",
       "      <th></th>\n",
       "      <th>date</th>\n",
       "      <th>1. open</th>\n",
       "      <th>2. high</th>\n",
       "      <th>3. low</th>\n",
       "      <th>4. close</th>\n",
       "      <th>5. volume</th>\n",
       "    </tr>\n",
       "  </thead>\n",
       "  <tbody>\n",
       "    <tr>\n",
       "      <th>0</th>\n",
       "      <td>2025-05-21</td>\n",
       "      <td>163.690</td>\n",
       "      <td>173.140</td>\n",
       "      <td>163.5600</td>\n",
       "      <td>168.56</td>\n",
       "      <td>71569839.0</td>\n",
       "    </tr>\n",
       "    <tr>\n",
       "      <th>1</th>\n",
       "      <td>2025-05-20</td>\n",
       "      <td>166.430</td>\n",
       "      <td>168.500</td>\n",
       "      <td>162.9000</td>\n",
       "      <td>163.98</td>\n",
       "      <td>46607656.0</td>\n",
       "    </tr>\n",
       "    <tr>\n",
       "      <th>2</th>\n",
       "      <td>2025-05-19</td>\n",
       "      <td>164.510</td>\n",
       "      <td>166.640</td>\n",
       "      <td>164.2200</td>\n",
       "      <td>166.54</td>\n",
       "      <td>30426097.0</td>\n",
       "    </tr>\n",
       "    <tr>\n",
       "      <th>3</th>\n",
       "      <td>2025-05-16</td>\n",
       "      <td>167.725</td>\n",
       "      <td>169.350</td>\n",
       "      <td>165.6200</td>\n",
       "      <td>166.19</td>\n",
       "      <td>42846925.0</td>\n",
       "    </tr>\n",
       "    <tr>\n",
       "      <th>4</th>\n",
       "      <td>2025-05-15</td>\n",
       "      <td>165.840</td>\n",
       "      <td>166.205</td>\n",
       "      <td>162.3732</td>\n",
       "      <td>163.96</td>\n",
       "      <td>33146669.0</td>\n",
       "    </tr>\n",
       "  </tbody>\n",
       "</table>\n",
       "</div>"
      ],
      "text/plain": [
       "         date  1. open  2. high    3. low  4. close   5. volume\n",
       "0  2025-05-21  163.690  173.140  163.5600    168.56  71569839.0\n",
       "1  2025-05-20  166.430  168.500  162.9000    163.98  46607656.0\n",
       "2  2025-05-19  164.510  166.640  164.2200    166.54  30426097.0\n",
       "3  2025-05-16  167.725  169.350  165.6200    166.19  42846925.0\n",
       "4  2025-05-15  165.840  166.205  162.3732    163.96  33146669.0"
      ]
     },
     "execution_count": 2,
     "metadata": {},
     "output_type": "execute_result"
    }
   ],
   "source": [
    "df = pd.read_csv('googl_daily_prices.csv')\n",
    "df.head()"
   ]
  },
  {
   "cell_type": "code",
   "execution_count": 3,
   "id": "c4cab521",
   "metadata": {},
   "outputs": [
    {
     "data": {
      "text/plain": [
       "(5223, 6)"
      ]
     },
     "execution_count": 3,
     "metadata": {},
     "output_type": "execute_result"
    }
   ],
   "source": [
    "df.shape"
   ]
  },
  {
   "cell_type": "code",
   "execution_count": 4,
   "id": "09eda7e5",
   "metadata": {},
   "outputs": [
    {
     "name": "stdout",
     "output_type": "stream",
     "text": [
      "<class 'pandas.core.frame.DataFrame'>\n",
      "RangeIndex: 5223 entries, 0 to 5222\n",
      "Data columns (total 6 columns):\n",
      " #   Column     Non-Null Count  Dtype  \n",
      "---  ------     --------------  -----  \n",
      " 0   date       5223 non-null   object \n",
      " 1   1. open    5223 non-null   float64\n",
      " 2   2. high    5223 non-null   float64\n",
      " 3   3. low     5223 non-null   float64\n",
      " 4   4. close   5223 non-null   float64\n",
      " 5   5. volume  5223 non-null   float64\n",
      "dtypes: float64(5), object(1)\n",
      "memory usage: 245.0+ KB\n"
     ]
    }
   ],
   "source": [
    "df.info()"
   ]
  },
  {
   "cell_type": "code",
   "execution_count": null,
   "id": "34ee85b0",
   "metadata": {},
   "outputs": [],
   "source": []
  }
 ],
 "metadata": {
  "kernelspec": {
   "display_name": "Python 3",
   "language": "python",
   "name": "python3"
  },
  "language_info": {
   "codemirror_mode": {
    "name": "ipython",
    "version": 3
   },
   "file_extension": ".py",
   "mimetype": "text/x-python",
   "name": "python",
   "nbconvert_exporter": "python",
   "pygments_lexer": "ipython3",
   "version": "3.11.2"
  }
 },
 "nbformat": 4,
 "nbformat_minor": 5
}
